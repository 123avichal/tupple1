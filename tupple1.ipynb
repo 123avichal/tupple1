{
 "cells": [
  {
   "cell_type": "markdown",
   "id": "eb807407-38ae-45fa-98b9-e67197718c5f",
   "metadata": {},
   "source": [
    "Q1. What is a tuple in Python?\n",
    "Ans tuple are the collection of data type which consist of list set ,int,float etc and they are immutable "
   ]
  },
  {
   "cell_type": "code",
   "execution_count": 60,
   "id": "f098d175-6eeb-41ec-a924-ae4d9091612f",
   "metadata": {},
   "outputs": [],
   "source": [
    "#Q2. How do you create a tuple in Python?\n",
    "t = (1,2,3,{3,4,5},['avi'])\n",
    " var_name = ()"
   ]
  },
  {
   "cell_type": "markdown",
   "id": "99c022e1-240c-49f2-b938-534bb085fc23",
   "metadata": {},
   "source": [
    "#Q3. What is the difference between a tuple and a list in Python?\n",
    "ans  diff b/w tuple and list is mutability or immutability concept where tuple are immutable while list are mutable"
   ]
  },
  {
   "cell_type": "markdown",
   "id": "ceca8a34-ee18-4c15-b65b-11733dc9d1fd",
   "metadata": {},
   "source": [
    "#Q4. Can a tuple be changed in Python?\n",
    "ans no beacause tuple follows the concept of immutability where we cannot change the data"
   ]
  },
  {
   "cell_type": "markdown",
   "id": "7c343eaf-09dd-410f-bb46-7e368a690fd5",
   "metadata": {},
   "source": [
    " Q5. How do you access elements in a tuple?\n",
    "ans through indexing and slicing method"
   ]
  },
  {
   "cell_type": "code",
   "execution_count": 61,
   "id": "e1a92087-fbd0-4405-9a8a-8cbe6532026a",
   "metadata": {},
   "outputs": [
    {
     "data": {
      "text/plain": [
       "(1, 2, 3, {3, 4, 5}, ['avi'])"
      ]
     },
     "execution_count": 61,
     "metadata": {},
     "output_type": "execute_result"
    }
   ],
   "source": [
    "t"
   ]
  },
  {
   "cell_type": "code",
   "execution_count": 62,
   "id": "5c885edd-e2d6-4810-b9e6-74ae8e000856",
   "metadata": {},
   "outputs": [
    {
     "data": {
      "text/plain": [
       "{3, 4, 5}"
      ]
     },
     "execution_count": 62,
     "metadata": {},
     "output_type": "execute_result"
    }
   ],
   "source": [
    "t[3]"
   ]
  },
  {
   "cell_type": "code",
   "execution_count": null,
   "id": "f7582fdf-d75c-42f9-81c5-20ad0c19c01a",
   "metadata": {},
   "outputs": [],
   "source": []
  }
 ],
 "metadata": {
  "kernelspec": {
   "display_name": "Python 3 (ipykernel)",
   "language": "python",
   "name": "python3"
  },
  "language_info": {
   "codemirror_mode": {
    "name": "ipython",
    "version": 3
   },
   "file_extension": ".py",
   "mimetype": "text/x-python",
   "name": "python",
   "nbconvert_exporter": "python",
   "pygments_lexer": "ipython3",
   "version": "3.10.8"
  }
 },
 "nbformat": 4,
 "nbformat_minor": 5
}
